{
 "cells": [
  {
   "cell_type": "markdown",
   "metadata": {},
   "source": [
    "# Whipser - Off chain P2P communication protocol"
   ]
  },
  {
   "cell_type": "markdown",
   "metadata": {},
   "source": [
    "[Whisper Overview] (https://github.com/ethereum/go-ethereum/wiki/Whisper-Overview)"
   ]
  },
  {
   "cell_type": "markdown",
   "metadata": {},
   "source": [
    "[ABI Documentation] (https://github.com/ethereum/go-ethereum/wiki/Whisper-v5-RPC-API)"
   ]
  },
  {
   "cell_type": "markdown",
   "metadata": {},
   "source": [
    "[Whisper Wiki] (https://github.com/ethereum/go-ethereum/wiki/Whisper)"
   ]
  },
  {
   "cell_type": "markdown",
   "metadata": {},
   "source": [
    "### Notes:\n",
    "- architecture agnostic\n",
    "- achives darkness (No metadata)\n",
    "- Intergrated with geth 1.7.2+"
   ]
  },
  {
   "cell_type": "code",
   "execution_count": null,
   "metadata": {},
   "outputs": [],
   "source": [
    "%%javascript\n",
    "\n",
    "// Reciver Code\n",
    "\n",
    "var keyID = web3.shh.newKeyPair();\n",
    "\n",
    "web3.shh.newMessageFilter(\n",
    "    {privateKeyID:keyID}, \n",
    "    function(err, res) {\n",
    "        console.log(JSON.stringify(res))\n",
    "    });\n",
    "\n",
    "shh.getPublicKey(keyID)"
   ]
  },
  {
   "cell_type": "code",
   "execution_count": null,
   "metadata": {},
   "outputs": [],
   "source": [
    "%%javascript\n",
    "\n",
    "// Sender Code\n",
    "\n",
    "shh.post({\n",
    "pubKey: '0x04794ff6b4d6fad8f8b8fc68687b9b8db862703c244e3c6202ce9a8fc4647d8390be119e06b7156a99f458e6acbd0be6ba268bd8a3f9c36f4aefdd3323de39fa03',\n",
    "ttl: 7,\n",
    "  powTarget: 2.01,\n",
    "  powTime: 2,\n",
    "  payload: web3.fromAscii(\"Hello AI!\")\n",
    "});"
   ]
  }
 ],
 "metadata": {
  "kernelspec": {
   "display_name": "Python 3",
   "language": "python",
   "name": "python3"
  },
  "language_info": {
   "codemirror_mode": {
    "name": "ipython",
    "version": 3
   },
   "file_extension": ".py",
   "mimetype": "text/x-python",
   "name": "python",
   "nbconvert_exporter": "python",
   "pygments_lexer": "ipython3",
   "version": "3.6.4"
  }
 },
 "nbformat": 4,
 "nbformat_minor": 2
}
